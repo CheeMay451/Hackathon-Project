{
 "cells": [
  {
   "cell_type": "code",
   "execution_count": 12,
   "id": "40a82350",
   "metadata": {},
   "outputs": [
    {
     "name": "stdout",
     "output_type": "stream",
     "text": [
      "ff23ba86debfcf3d30c3f12b5e19bd1785a71db1813d0095caf1220feb4d46f9\n"
     ]
    }
   ],
   "source": [
    "# Generate a SHA-256 hash for a file.\n",
    "\n",
    "import hashlib\n",
    "\n",
    "def hash_file(filename):\n",
    "    h = hashlib.sha256()  # Create a hash object using SHA-256\n",
    "    with open(filename, 'rb') as file:  # Open the file in binary read mode\n",
    "        chunk = 0\n",
    "        while chunk != b'':\n",
    "            chunk = file.read(1024)  # Read the file in chunks of 1024 bytes\n",
    "            h.update(chunk)  # Update the hash object with the bytes of the file\n",
    "    return h.hexdigest()  # Return the hexadecimal digest of the hash\n",
    "\n",
    "file_path = r\"C:\\Users\\elisa\\OneDrive\\EM\\Exeter University\\Hackathon Project\\Smart contracts\\Contract.pdf\"\n",
    "hash_value = hash_file(file_path)\n",
    "print(hash_value)"
   ]
  },
  {
   "cell_type": "code",
   "execution_count": 19,
   "id": "4aa5dd7b",
   "metadata": {},
   "outputs": [
    {
     "name": "stdout",
     "output_type": "stream",
     "text": [
      "SHA-256 Hash of the PDF: 4ff21bbd07bdcae4b3dd0dc1fa5646cf2f037039c90c16e8524c413aa73fbcfe\n"
     ]
    }
   ],
   "source": [
    "# Generate a SHA-256 hash for a file.\n",
    "\n",
    "import hashlib\n",
    "import requests\n",
    "\n",
    "def hash_file_from_url(url):\n",
    "    \"\"\" Generate a SHA-256 hash for a file downloaded from a URL. \"\"\"\n",
    "    h = hashlib.sha256()  # Create a hash object using SHA-256\n",
    "    response = requests.get(url, stream = True)\n",
    "    for chunk in response.iter_content(chunk_size = 1024):\n",
    "        if chunk:\n",
    "            h.update(chunk)  # Update the hash object with the bytes of the file\n",
    "    return h.hexdigest()  # Return the hexadecimal digest of the hash\n",
    "\n",
    "url = \"https://universityofexeteruk-my.sharepoint.com/personal/pa366_exeter_ac_uk/Documents/Client%20contract%20for%20LOTUS.pdf\"\n",
    "try:\n",
    "    hash_value = hash_file_from_url(url)\n",
    "    print(\"SHA-256 Hash of the PDF:\", hash_value)\n",
    "except Exception as e:\n",
    "    print(\"Error downloading or hashing the file:\", e)"
   ]
  }
 ],
 "metadata": {
  "kernelspec": {
   "display_name": "Python 3 (ipykernel)",
   "language": "python",
   "name": "python3"
  },
  "language_info": {
   "codemirror_mode": {
    "name": "ipython",
    "version": 3
   },
   "file_extension": ".py",
   "mimetype": "text/x-python",
   "name": "python",
   "nbconvert_exporter": "python",
   "pygments_lexer": "ipython3",
   "version": "3.11.4"
  }
 },
 "nbformat": 4,
 "nbformat_minor": 5
}
